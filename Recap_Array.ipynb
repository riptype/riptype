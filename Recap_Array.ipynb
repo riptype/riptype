{
  "nbformat": 4,
  "nbformat_minor": 0,
  "metadata": {
    "colab": {
      "private_outputs": true,
      "provenance": [],
      "include_colab_link": true
    },
    "kernelspec": {
      "name": "python3",
      "display_name": "Python 3"
    },
    "language_info": {
      "name": "python"
    }
  },
  "cells": [
    {
      "cell_type": "markdown",
      "metadata": {
        "id": "view-in-github",
        "colab_type": "text"
      },
      "source": [
        "<a href=\"https://colab.research.google.com/github/riptype/riptype/blob/main/Recap_Array.ipynb\" target=\"_parent\"><img src=\"https://colab.research.google.com/assets/colab-badge.svg\" alt=\"Open In Colab\"/></a>"
      ]
    },
    {
      "cell_type": "markdown",
      "source": [
        "# AGENDA\n",
        "\n",
        "01 Recap\n",
        "\n",
        "02 Introduction to Turtle.py module\n",
        "\n",
        "03 Hands-on Exercise: Turtle.py exercises."
      ],
      "metadata": {
        "id": "HJGMbBi4nOCD"
      }
    },
    {
      "cell_type": "markdown",
      "source": [
        "# Arrays Method and Modules (Continued)"
      ],
      "metadata": {
        "id": "wShvanAlj3C2"
      }
    },
    {
      "cell_type": "markdown",
      "source": [
        "An array is a special variable, which can hold more than one value at a time.\n",
        "\n",
        "If you have a list of items (a list of car names, for example), storing the cars in single variables could look like this:"
      ],
      "metadata": {
        "id": "6P6YYdxboupG"
      }
    },
    {
      "cell_type": "code",
      "source": [
        "car1 = 'Lamborghini'\n",
        "car2 = 'Bugatti'\n",
        "car3 = 'Koenigsegg'"
      ],
      "metadata": {
        "id": "gT5Rfp9vjz-u"
      },
      "execution_count": null,
      "outputs": []
    },
    {
      "cell_type": "markdown",
      "source": [
        "# Array operations\n",
        "Some of the basic operations supported by an array are as follows:\n",
        "\n",
        "* Traverse - It prints all the elements one by one.\n",
        "* Insertion - It adds an element at the given index.\n",
        "* Deletion - It deletes an element at the given index.\n",
        "* Search - It searches an element using the given index or by the value.\n",
        "* Update - It updates an element at the given index.\n",
        "The Array can be created in Python by importing the array module to the python program."
      ],
      "metadata": {
        "id": "mGCY-Rjlj1uP"
      }
    },
    {
      "cell_type": "markdown",
      "source": [
        "### Exercises: Accessing array elements"
      ],
      "metadata": {
        "id": "9N4gGKNbt24B"
      }
    },
    {
      "cell_type": "code",
      "execution_count": null,
      "metadata": {
        "id": "EYUvcXkrjx7L"
      },
      "outputs": [],
      "source": [
        "import array as arr\n",
        "a = arr.array('i', [2, 4, 5, 6])\n",
        "print(\"First element is:\", a[0])\n",
        "print(\"Second element is:\", a[1])\n",
        "print(\"Third element is:\", a[2])\n",
        "print(\"Forth element is:\", a[3])\n",
        "print(\"last element is:\", a[-1])\n",
        "print(\"Second last element is:\", a[-2])\n",
        "print(\"Third last element is:\", a[-3])\n",
        "print(\"Forth last element is:\", a[-4])\n",
        "print(a[0], a[1], a[2], a[3], a[-1],a[-2],a[-3],a[-4])"
      ]
    },
    {
      "cell_type": "markdown",
      "source": [
        "# Why use Arrays in Python?\n",
        "\n",
        "A combination of arrays saves a lot of time. The Array can reduce the overall size of the code. Using an array, we can solve a problem quickly in any language. The Array is used for dynamic memory allocatio"
      ],
      "metadata": {
        "id": "ATAGgaRSuUNU"
      }
    },
    {
      "cell_type": "markdown",
      "source": [
        "**Delete Elements from an Array**\n",
        "\n",
        "The elements can be deleted from an array using Python's del statement. If we want to delete any value from the Array, we can use the indices of a particular element."
      ],
      "metadata": {
        "id": "Trfw5iZ-uqJ4"
      }
    },
    {
      "cell_type": "code",
      "source": [
        "number = arr.array('i', [1, 2, 3, 3, 4])\n",
        "del number[2]                           # removing third element\n",
        "print(number)                           # Output: array('i', [1, 2, 3, 4])"
      ],
      "metadata": {
        "id": "PJ8dJHhMukr9"
      },
      "execution_count": null,
      "outputs": []
    },
    {
      "cell_type": "markdown",
      "source": [
        "**length of an array**\n",
        "\n",
        "The length of an array is defined as the number of elements present in an array. It returns an integer value that is equal to the total number of the elements present in that array"
      ],
      "metadata": {
        "id": "4VJp0_L5uwX3"
      }
    },
    {
      "cell_type": "markdown",
      "source": [
        "**Array Concatenation**\n",
        "\n",
        "We can easily concatenate any two arrays using the + symbol."
      ],
      "metadata": {
        "id": "dWSw1gLcvFPf"
      }
    },
    {
      "cell_type": "code",
      "source": [
        "a=('d',[1.1 , 2.1 ,3.1,2.6,7.8])\n",
        "b=('d',[3.7,8.6])\n",
        "c=('d')\n",
        "c=a+b\n",
        "print(\"Array c = \",c)"
      ],
      "metadata": {
        "id": "v3-yPX73wUg8"
      },
      "execution_count": null,
      "outputs": []
    },
    {
      "cell_type": "markdown",
      "source": [
        "# Array Methods\n",
        "\n",
        "append()- Adds an element at the end of the list\n",
        "\n",
        "clear()- Removes all the elements from the list\n",
        "\n",
        "copy()- Returns a copy of the list\n",
        "\n",
        "count()- Returns the number of elements with the specified value\n",
        "\n",
        "extend()- Add the elements of a list (or any iterable), to the end of the current list\n",
        "\n",
        "index()- Returns the index of the first element with the specified value\n",
        "\n",
        "insert()- Adds an element at the specified position\n",
        "\n",
        "pop()- Removes the element at the specified position\n",
        "\n",
        "remove()- Removes the first item with the specified value\n",
        "\n",
        "reverse() -Reverses the order of the list\n",
        "\n",
        "sort()- Sorts the list"
      ],
      "metadata": {
        "id": "KpwvjmNfxwF8"
      }
    },
    {
      "cell_type": "markdown",
      "source": [
        "# Introduction to Turtle.py module\n",
        "Turtle graphics is an implementation of the popular geometric drawing tools introduced in Logo, developed by Wally Feurzeig, Seymour Papert and Cynthia Solomon in 1967.\n",
        "\n",
        "In Python, turtle graphics provides a representation of a physical “turtle” (a little robot with a pen) that draws on a sheet of paper on the floor."
      ],
      "metadata": {
        "id": "PZXnJVwKyUUh"
      }
    },
    {
      "cell_type": "markdown",
      "source": [
        "Installing and importing required lib for Google Collab\n"
      ],
      "metadata": {
        "id": "E1sGAwD10Ytx"
      }
    },
    {
      "cell_type": "code",
      "source": [
        "!pip3 install ColabTurtle\n",
        "from ColabTurtle.Turtle import*"
      ],
      "metadata": {
        "id": "H2YUi9j70Arb"
      },
      "execution_count": null,
      "outputs": []
    },
    {
      "cell_type": "code",
      "source": [
        "initializeTurtle()"
      ],
      "metadata": {
        "id": "8l5Bo8_N0m9s"
      },
      "execution_count": null,
      "outputs": []
    },
    {
      "cell_type": "markdown",
      "source": [
        "The `initializeTurtle()` function call will create a turtle for us!\n",
        "\n",
        "If you already have a turtle, the `intializeTurtle()` function will erase your turtle's history so that you can start over."
      ],
      "metadata": {
        "id": "Wuyl9Aio0SvT"
      }
    },
    {
      "cell_type": "code",
      "source": [
        "side_length = 100\n",
        "angle = 360/2\n",
        "\n",
        "for i in range(8):\n",
        "  forward(210)\n",
        "  right(72)"
      ],
      "metadata": {
        "id": "VvO4ueeQ1WCk"
      },
      "execution_count": null,
      "outputs": []
    },
    {
      "cell_type": "markdown",
      "source": [
        "Using any LLM, complete the following exercises, making sure to include best practices when interacting with AI such as:\n",
        "* Descriptive prompts\n",
        "* Iterative Prompting\n",
        "* etc"
      ],
      "metadata": {
        "id": "sKTzcvdSNZvP"
      }
    },
    {
      "cell_type": "markdown",
      "source": [
        "# Excercise - I\n",
        "\n",
        "With the help of any LLM draw a Pentagon (72 degrees)\n"
      ],
      "metadata": {
        "id": "7YL5RXce0Hbk"
      }
    },
    {
      "cell_type": "markdown",
      "source": [
        "# Excercise - II\n",
        "\n",
        "Draw another geometric shape of your choice"
      ],
      "metadata": {
        "id": "aUmtdVzV08l8"
      }
    },
    {
      "cell_type": "markdown",
      "source": [
        "# Turtle Race using VsCode\n",
        "\n",
        "Let's explore how we can leverage pre-defined functions in the Turtle module within Visual Studio Code to simplify our code\n",
        "\n",
        "* Open VsCode\n",
        "* Open turtle_ex.py file on VsCode\n",
        "* Following the Step in that file"
      ],
      "metadata": {
        "id": "0S4t9kzj1UB8"
      }
    },
    {
      "cell_type": "markdown",
      "source": [
        "# Excercise - III\n",
        "\n",
        "Using Vscode w rite a function which will draw a shape given a number of sides\n",
        "\n",
        "-fill the shape a color passed into the function"
      ],
      "metadata": {
        "id": "6ttR1Qv9MhvG"
      }
    },
    {
      "cell_type": "markdown",
      "source": [
        "# Excercise - IV\n",
        "\n",
        "Homework (optional) - Get the turtle to write a word on screen in coloured block letters"
      ],
      "metadata": {
        "id": "k2Fd5QJ5Mngt"
      }
    },
    {
      "cell_type": "markdown",
      "source": [
        "# Recap\n",
        "* Arrays & Methods\n",
        "* Introduction to Turtle Lib\n",
        "* Few Activies on Turtle"
      ],
      "metadata": {
        "id": "DV1P1M2pOACG"
      }
    }
  ]
}